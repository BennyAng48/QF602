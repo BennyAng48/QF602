{
 "cells": [
  {
   "cell_type": "code",
   "execution_count": 1,
   "metadata": {},
   "outputs": [
    {
     "name": "stdout",
     "output_type": "stream",
     "text": [
      "####################################################################\n",
      "#  FINANCEPY BETA Version 0.370 - This build: 28 Oct 2024 at 20:26 #\n",
      "#     This software is distributed FREE AND WITHOUT ANY WARRANTY   #\n",
      "#  Report bugs as issues at https://github.com/domokane/FinancePy  #\n",
      "####################################################################\n",
      "\n"
     ]
    }
   ],
   "source": [
    "import numpy as np\n",
    "from scipy.stats import norm\n",
    "import scipy.integrate as integrate\n",
    "from scipy import optimize\n",
    "#from financepy.models.black import *\n",
    "from financepy.utils.global_types import *"
   ]
  },
  {
   "cell_type": "code",
   "execution_count": 2,
   "metadata": {},
   "outputs": [],
   "source": [
    "def ivol_helper(K):\n",
    "    return 0.510 - 0.591*K + 0.376*K**2 - 0.105*K**3 + 0.011*K**4"
   ]
  },
  {
   "cell_type": "code",
   "execution_count": 3,
   "metadata": {},
   "outputs": [],
   "source": [
    "def ivol_HW6(K):\n",
    "    if K>=3:\n",
    "        return ivol_helper(3)\n",
    "    else:\n",
    "        return ivol_helper(K)"
   ]
  },
  {
   "cell_type": "code",
   "execution_count": 4,
   "metadata": {},
   "outputs": [],
   "source": [
    "def Black(f:float, \n",
    "              k:float, \n",
    "              t:float,\n",
    "              vol:float, \n",
    "              df:float,\n",
    "              callorput):\n",
    "    \n",
    "    # Refer to last line in slide 16. This is NOT the same d1 used in BlackScholes\n",
    "    d1 = (np.log(f/k) + 0.5 * (vol**2) * t) / (vol*np.sqrt(t))\n",
    "    \n",
    "    d2 = d1 - vol * np.sqrt(t)\n",
    "    \n",
    "    if callorput == \"CALL\":\n",
    "        # Last line in slide 16\n",
    "        value = df * (f * norm.cdf(d1) - k * norm.cdf(d2))\n",
    "    else:\n",
    "        # Last line in slide 16, but order is flipped, just like BlackScholes put\n",
    "        value = df * (k * norm.cdf(-d2) - f * norm.cdf(-d1))\n",
    "    \n",
    "    return value"
   ]
  },
  {
   "cell_type": "code",
   "execution_count": 5,
   "metadata": {},
   "outputs": [],
   "source": [
    "def black_with_smile(f, k, t, df, callorput):\n",
    "    vol = ivol_HW6(k)\n",
    "    return Black(f, k, t, vol, df, callorput) * df"
   ]
  },
  {
   "cell_type": "code",
   "execution_count": 6,
   "metadata": {},
   "outputs": [],
   "source": [
    "# def EUROPEAN_CALL(S_0, K, r, sigma, T):\n",
    "#     d1 = (np.log(S_0/K)+(r+sigma**2/2)*T) / (sigma*np.sqrt(T))\n",
    "#     d2 = d1 - sigma*np.sqrt(T)\n",
    "    \n",
    "#     return S_0*norm.cdf(d1) - K*np.exp(-r*T)*norm.cdf(d2)\n",
    "\n",
    "# def EUROPEAN_PUT(S_0, K, r, sigma, T):\n",
    "#     d1 = (np.log(S_0/K)+(r+sigma**2/2)*T) / (sigma*np.sqrt(T))\n",
    "#     d2 = d1 - sigma*np.sqrt(T)\n",
    "    \n",
    "#     return K*np.exp(-r*T)*norm.cdf(-d2) - S_0*norm.cdf(-d1)"
   ]
  },
  {
   "cell_type": "code",
   "execution_count": 7,
   "metadata": {},
   "outputs": [],
   "source": [
    "def numerical_integration_HW6Q1(S0, r, q, T, SD):\n",
    "    DF = np.exp(-r*T)\n",
    "    DivF = np.exp(-q*T)\n",
    "    f = S0*DivF/DF\n",
    "    \n",
    "    vol_for_range = ivol_HW6(f)\n",
    "    maxS = f * np.exp(vol_for_range * SD * np.sqrt(T))\n",
    "    forward_part = np.sqrt(f) * DF\n",
    "    \n",
    "    integrand_put = lambda y: y**(-1.5)/4 * black_with_smile(f, y, T, DF, \"PUT\")\n",
    "    put_part, error = integrate.quad(integrand_put, 0.0001, f)\n",
    "    \n",
    "    integrand_call = lambda x: x**(-1.5)/4 * black_with_smile(f, x, T, DF, \"CALL\")\n",
    "    call_part, error = integrate.quad(integrand_call, f, maxS)\n",
    "    \n",
    "    return forward_part - put_part - call_part"
   ]
  },
  {
   "cell_type": "code",
   "execution_count": 8,
   "metadata": {},
   "outputs": [],
   "source": [
    "def numerical_integration_HW6Q2(S0, r, q, T, SD):\n",
    "    DF = np.exp(-r*T)\n",
    "    DivF = np.exp(-q*T)\n",
    "    f = S0*DivF/DF\n",
    "    \n",
    "    vol_for_range = ivol_HW6(f)\n",
    "    maxS = f * np.exp(vol_for_range * SD * np.sqrt(T))\n",
    "    forward_part = f * f * f * DF\n",
    "    \n",
    "    integrand_put = lambda y: 6 * y * black_with_smile(f, y, T, DF, \"PUT\")\n",
    "    put_part, error = integrate.quad(integrand_put, 0, f)\n",
    "    \n",
    "    integrand_call = lambda x: 6 * x * black_with_smile(f, x, T, DF, \"CALL\")\n",
    "    call_part, error = integrate.quad(integrand_call, f, maxS)\n",
    "    \n",
    "    return forward_part + put_part + call_part"
   ]
  },
  {
   "cell_type": "code",
   "execution_count": 9,
   "metadata": {},
   "outputs": [],
   "source": [
    "# driver routine for Q1 and Q2\n",
    "q = 0.0; \n",
    "r = 0.0; \n",
    "T = 4; \n",
    "S0 = 1\n",
    "DF = np.exp(-r*T)\n",
    "\n",
    "SDs = np.linspace(1, 6, 6)"
   ]
  },
  {
   "cell_type": "code",
   "execution_count": 10,
   "metadata": {},
   "outputs": [],
   "source": [
    "Q1numIntResults = [numerical_integration_HW6Q1(S0, r, q, T, sd) for sd in SDs]"
   ]
  },
  {
   "cell_type": "code",
   "execution_count": 11,
   "metadata": {},
   "outputs": [
    {
     "data": {
      "text/plain": [
       "[0.9744529379057193,\n",
       " 0.9737922020460309,\n",
       " 0.9737631318280784,\n",
       " 0.9737624998879959,\n",
       " 0.9737624966184146,\n",
       " 0.9737624965892451]"
      ]
     },
     "execution_count": 11,
     "metadata": {},
     "output_type": "execute_result"
    }
   ],
   "source": [
    "Q1numIntResults"
   ]
  },
  {
   "cell_type": "code",
   "execution_count": 12,
   "metadata": {},
   "outputs": [],
   "source": [
    "Q2numIntResults = [numerical_integration_HW6Q2(S0, r, q, T, sd) for sd in SDs]"
   ]
  },
  {
   "cell_type": "code",
   "execution_count": 13,
   "metadata": {},
   "outputs": [
    {
     "data": {
      "text/plain": [
       "[1.4563473950073735,\n",
       " 1.5157020030493702,\n",
       " 1.5226686291504845,\n",
       " 1.5230535930213192,\n",
       " 1.5230590092868612,\n",
       " 1.5230590334482683]"
      ]
     },
     "execution_count": 13,
     "metadata": {},
     "output_type": "execute_result"
    }
   ],
   "source": [
    "Q2numIntResults"
   ]
  }
 ],
 "metadata": {
  "kernelspec": {
   "display_name": ".venv",
   "language": "python",
   "name": "python3"
  },
  "language_info": {
   "codemirror_mode": {
    "name": "ipython",
    "version": 3
   },
   "file_extension": ".py",
   "mimetype": "text/x-python",
   "name": "python",
   "nbconvert_exporter": "python",
   "pygments_lexer": "ipython3",
   "version": "3.10.6"
  }
 },
 "nbformat": 4,
 "nbformat_minor": 2
}
