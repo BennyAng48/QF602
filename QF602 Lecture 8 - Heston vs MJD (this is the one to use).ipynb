{
 "cells": [
  {
   "cell_type": "code",
   "execution_count": 1,
   "id": "precious-roads",
   "metadata": {},
   "outputs": [
    {
     "name": "stdout",
     "output_type": "stream",
     "text": [
      "####################################################################\n",
      "#  FINANCEPY BETA Version 0.370 - This build: 28 Oct 2024 at 20:26 #\n",
      "#     This software is distributed FREE AND WITHOUT ANY WARRANTY   #\n",
      "#  Report bugs as issues at https://github.com/domokane/FinancePy  #\n",
      "####################################################################\n",
      "\n"
     ]
    }
   ],
   "source": [
    "import numpy as np\n",
    "import scipy.integrate as integrate\n",
    "import pandas as pd\n",
    "import QuantLib as ql\n",
    "from scipy import optimize\n",
    "from financepy.models.black import *\n",
    "from financepy.utils.global_types import *\n",
    "import matplotlib.pyplot as plt\n",
    "\n",
    "%load_ext autoreload\n",
    "%autoreload 2"
   ]
  },
  {
   "cell_type": "code",
   "execution_count": 2,
   "id": "valued-district",
   "metadata": {},
   "outputs": [],
   "source": [
    "def carr_madan_integrand(cf, logk, u, alpha):\n",
    "    top = cf(complex(u, -(alpha+1.0))) * np.exp(complex(0.0, -u*logk))\n",
    "    bottom = complex(alpha*alpha + alpha - u*u, (2.0*alpha + 1.0)*u)\n",
    "    result = top/bottom\n",
    "    return result.real \n",
    "\n",
    "def blackImpliedVol(forward, K, T, DF, price):    \n",
    "    min_ivol, max_ivol = 0.001, 1.0\n",
    "    f = lambda ivol: Black(ivol).value(forward, K, T, DF, OptionTypes.EUROPEAN_CALL) - price    \n",
    "    return optimize.bisect(f, min_ivol, max_ivol) "
   ]
  },
  {
   "cell_type": "markdown",
   "id": "serial-sender",
   "metadata": {},
   "source": [
    "### Heston"
   ]
  },
  {
   "cell_type": "code",
   "execution_count": 3,
   "id": "collectible-pottery",
   "metadata": {},
   "outputs": [],
   "source": [
    "# characteristic function of heston model. The notation follows The Little Heston Trap 2005.\n",
    "# dF_t/F_t = sqrt(v_t)dW_t\n",
    "# dv_t = kappa*(nu-v_t) dt + lambda * sqrt(v_t)dZ_t\n",
    "# E[dWdZ] = rho dt\n",
    "def heston_cf(forward, vol_0, kappa, nu, lam, rho, t, u):\n",
    "    # pre computed values\n",
    "    rliu_m_k = complex(-kappa, rho * lam * u)\n",
    "    d = np.sqrt( rliu_m_k * rliu_m_k + complex(lam*lam*u*u, lam*lam*u) )\n",
    "    k_m_rliu_m_d = complex(kappa, -rho * lam * u) - d\n",
    "    g2 = complex(kappa-d, -rho*lam*u) / complex(kappa+d, -rho*lam*u)\n",
    "    emdt = np.exp(-d*t)\n",
    "    one_m_g2 = 1.0 - g2 * emdt\n",
    "    one_m_emdt = 1.0 - emdt\n",
    "    v0v0ll = vol_0*vol_0/(lam*lam)\n",
    "    temp1 = np.exp(complex(0.0, u * np.log(forward)))\n",
    "    temp2 = k_m_rliu_m_d*t - 2.0 * np.log (one_m_g2/(1.0-g2))\n",
    "    temp2 = np.exp( temp2 * nu*kappa/(lam*lam) )\n",
    "    temp3 = np.exp( v0v0ll * k_m_rliu_m_d * (1.0 - emdt) / one_m_g2 )\n",
    "    result = temp1 * temp2 * temp3\n",
    "    return result\n",
    "\n",
    "#vol_0,    # the volatility at time 0, NOT variance\n",
    "#kappa,    # mean reversion rate\n",
    "#nu,       # mean reversion level\n",
    "#lam,      # vol of variance\n",
    "#rho,      # correlation \n",
    "def carr_madan_heston_call_option(forward, vol_0, kappa, nu, lam , rho, t, k, r, alpha = 1.5):\n",
    "    cf = lambda u: heston_cf(forward, vol_0, kappa, nu, lam, rho, t, u)\n",
    "    integrand = lambda u: carr_madan_integrand(cf, np.log(k), u, alpha)\n",
    "    result, error = integrate.quad(integrand, 0.0, np.inf)\n",
    "    return np.exp(-r*t) * np.exp(-alpha*np.log(k)) / np.pi * result"
   ]
  },
  {
   "cell_type": "markdown",
   "id": "nominated-cabin",
   "metadata": {},
   "source": [
    "### Merton's jump diffusion"
   ]
  },
  {
   "cell_type": "code",
   "execution_count": 4,
   "id": "removable-trade",
   "metadata": {},
   "outputs": [],
   "source": [
    "def MDJ_cf(forward, vol, a, b, lam, t, u):\n",
    "    lnf_factor = complex(0, u*np.log(forward))\n",
    "    jump_compensation = lam*(np.exp(a+b*b/2)-1)    \n",
    "    drift_and_diffusion_term = complex(-0.5*u*u*vol*vol, u*(-0.5*vol*vol - jump_compensation))\n",
    "    jump_term = lam*(np.exp(complex(-0.5*b*b*u*u, u*a)) - 1)        \n",
    "    return np.exp(lnf_factor + (drift_and_diffusion_term + jump_term)*t )\n",
    "    \n",
    "def carr_madan_MJD_call_option(forward, vol, a, b, lam, t, k, r, alpha=1.5):    \n",
    "    cf = lambda u: MDJ_cf(forward, vol, a, b, lam, t, u)\n",
    "    integrand = lambda u: carr_madan_integrand(cf, np.log(k), u, alpha)\n",
    "\n",
    "    # lower limit is 0.0, upper limit is infinity\n",
    "    result, error = integrate.quad(integrand, 0.0, np.inf)\n",
    "    return np.exp(-r*t) * np.exp(-alpha*np.log(k)) / np.pi * result"
   ]
  },
  {
   "cell_type": "markdown",
   "id": "marked-champagne",
   "metadata": {},
   "source": [
    "### Calibration Routine"
   ]
  },
  {
   "cell_type": "code",
   "execution_count": 5,
   "id": "personalized-fossil",
   "metadata": {},
   "outputs": [],
   "source": [
    "#input: \n",
    "#   vol = params[0]\n",
    "#   a = params[1]\n",
    "#   b = params[2]\n",
    "#   lam = params[3]  \n",
    "#output: list of residuals\n",
    "def MJD_obj_func(forward, Ks, T, r, df_mkt, params):     \n",
    "    residuals = []                               \n",
    "    mdl_prices = [carr_madan_MJD_call_option(forward, params[0], params[1], params[2], params[3], T, K, r) for K in Ks]      \n",
    "    mkt_prices = list(df_mkt['Heston price'])\n",
    "    res = [(mdl/mkt-1.0)**2 for mdl, mkt in zip(mdl_prices, mkt_prices)]  \n",
    "    residuals.extend(res)     \n",
    "        \n",
    "    return residuals\n",
    "\n",
    "def unpack_MJD_calib_params(MJD_calib_res):\n",
    "    vol = MJD_calib_res.x[0]; a = MJD_calib_res.x[1]; b = MJD_calib_res.x[2]; lam = MJD_calib_res.x[3]\n",
    "    return vol, a, b, lam"
   ]
  },
  {
   "cell_type": "markdown",
   "id": "legendary-metro",
   "metadata": {},
   "source": [
    "### Generate market price using Heston model"
   ]
  },
  {
   "cell_type": "code",
   "execution_count": 6,
   "id": "proof-niger",
   "metadata": {},
   "outputs": [],
   "source": [
    "S0 = 100\n",
    "T = 1                  # maturity\n",
    "r = 0.05              # risk free rate\n",
    "q = 0.03                  # dividend yield\n",
    "DF = np.exp(-r*T)\n",
    "DivF = np.exp(-q*T)\n",
    "forward = S0 * DivF / DF \n",
    "\n",
    "var_0 = 0.0989   # variance at time 0\n",
    "vol_0 = np.sqrt(var_0)\n",
    "kappa = 0.7331            # mean reversion rate\n",
    "lam = 0.70                # vol of variance\n",
    "nu = 0.3407               # mean reversion level\n",
    "rho = -0.2949            # correlation \n",
    "\n",
    "Ks = np.linspace(70, 130, 7)\n",
    "df_mkt = pd.DataFrame()\n",
    "df_mkt['Strike'] = Ks\n",
    "heston_prices = [carr_madan_heston_call_option(forward, vol_0, kappa, nu, lam , rho, T, K, r) for K in Ks]\n",
    "df_mkt['Heston price'] = np.array(heston_prices)\n",
    "\n",
    "heston_ivols = [blackImpliedVol(forward, K, T, DF, call_value) for call_value, K in zip(heston_prices, Ks)]    \n",
    "\n",
    "df_mkt['Heston ivol'] = np.array(heston_ivols)"
   ]
  },
  {
   "cell_type": "code",
   "execution_count": 7,
   "id": "disciplinary-lesson",
   "metadata": {},
   "outputs": [
    {
     "data": {
      "text/plain": [
       "<Axes: xlabel='Strike'>"
      ]
     },
     "execution_count": 7,
     "metadata": {},
     "output_type": "execute_result"
    },
    {
     "data": {
      "image/png": "[encoded data removed]",
      "text/plain": [
       "<Figure size 640x480 with 1 Axes>"
      ]
     },
     "metadata": {},
     "output_type": "display_data"
    }
   ],
   "source": [
    "df_mkt.plot(x='Strike', y='Heston ivol', style='x')"
   ]
  },
  {
   "cell_type": "markdown",
   "id": "tribal-skill",
   "metadata": {},
   "source": [
    "### Calibrate MJD model to the market price"
   ]
  },
  {
   "cell_type": "code",
   "execution_count": 8,
   "id": "streaming-person",
   "metadata": {},
   "outputs": [
    {
     "name": "stdout",
     "output_type": "stream",
     "text": [
      "[ 0.2369185  -0.15390669  0.32246502  0.97330624]\n"
     ]
    }
   ],
   "source": [
    "#initial values  \n",
    "#init_param_MJD = np.array([vol, a, b, lam])\n",
    "init_param_MJD = np.array([0.236, -0.153, 0.322, 0.973])\n",
    "\n",
    "obj_function = lambda p: MJD_obj_func(forward, Ks, T, r, df_mkt, p)\n",
    "MJD_param = optimize.least_squares(obj_function, init_param_MJD, method='lm', xtol=1E-8 )\n",
    "print(MJD_param.x)"
   ]
  },
  {
   "cell_type": "markdown",
   "id": "honey-anime",
   "metadata": {},
   "source": [
    "### Check calibration accuracy"
   ]
  },
  {
   "cell_type": "code",
   "execution_count": 9,
   "id": "ordinary-military",
   "metadata": {},
   "outputs": [],
   "source": [
    "mjd_prices = [carr_madan_MJD_call_option(forward, \\\n",
    "                                         MJD_param.x[0], \\\n",
    "                                         MJD_param.x[1], \\\n",
    "                                         MJD_param.x[2], \\\n",
    "                                         MJD_param.x[3], T, K, r) for K in Ks]  \n",
    "\n",
    "df_mkt['MJD price'] = np.array(mjd_prices)\n",
    "mjd_ivols = [blackImpliedVol(forward, K, T, DF, call_value) for call_value, K in zip(mjd_prices, Ks)]  \n",
    "df_mkt['MJD ivol'] = np.array(mjd_ivols)\n",
    "           \n",
    "df_mkt['diff ivol'] = df_mkt['Heston ivol'] - df_mkt['MJD ivol']"
   ]
  },
  {
   "cell_type": "markdown",
   "id": "varied-moral",
   "metadata": {},
   "source": [
    "### Heston vs MJD which both matches at T=1"
   ]
  },
  {
   "cell_type": "code",
   "execution_count": 10,
   "id": "aboriginal-nursery",
   "metadata": {},
   "outputs": [
    {
     "data": {
      "text/html": [
       "<div>\n",
       "<style scoped>\n",
       "    .dataframe tbody tr th:only-of-type {\n",
       "        vertical-align: middle;\n",
       "    }\n",
       "\n",
       "    .dataframe tbody tr th {\n",
       "        vertical-align: top;\n",
       "    }\n",
       "\n",
       "    .dataframe thead th {\n",
       "        text-align: right;\n",
       "    }\n",
       "</style>\n",
       "<table border=\"1\" class=\"dataframe\">\n",
       "  <thead>\n",
       "    <tr style=\"text-align: right;\">\n",
       "      <th></th>\n",
       "      <th>Strike</th>\n",
       "      <th>Heston price</th>\n",
       "      <th>Heston ivol</th>\n",
       "      <th>MJD price</th>\n",
       "      <th>MJD ivol</th>\n",
       "      <th>diff ivol</th>\n",
       "    </tr>\n",
       "  </thead>\n",
       "  <tbody>\n",
       "    <tr>\n",
       "      <th>0</th>\n",
       "      <td>70.0</td>\n",
       "      <td>33.962811</td>\n",
       "      <td>0.426616</td>\n",
       "      <td>33.959477</td>\n",
       "      <td>0.426459</td>\n",
       "      <td>0.000157</td>\n",
       "    </tr>\n",
       "    <tr>\n",
       "      <th>1</th>\n",
       "      <td>80.0</td>\n",
       "      <td>26.855224</td>\n",
       "      <td>0.408783</td>\n",
       "      <td>26.858224</td>\n",
       "      <td>0.408890</td>\n",
       "      <td>-0.000107</td>\n",
       "    </tr>\n",
       "    <tr>\n",
       "      <th>2</th>\n",
       "      <td>90.0</td>\n",
       "      <td>20.699066</td>\n",
       "      <td>0.394404</td>\n",
       "      <td>20.698973</td>\n",
       "      <td>0.394402</td>\n",
       "      <td>0.000003</td>\n",
       "    </tr>\n",
       "    <tr>\n",
       "      <th>3</th>\n",
       "      <td>100.0</td>\n",
       "      <td>15.591156</td>\n",
       "      <td>0.383501</td>\n",
       "      <td>15.589661</td>\n",
       "      <td>0.383462</td>\n",
       "      <td>0.000040</td>\n",
       "    </tr>\n",
       "    <tr>\n",
       "      <th>4</th>\n",
       "      <td>110.0</td>\n",
       "      <td>11.538755</td>\n",
       "      <td>0.375989</td>\n",
       "      <td>11.538874</td>\n",
       "      <td>0.375993</td>\n",
       "      <td>-0.000003</td>\n",
       "    </tr>\n",
       "    <tr>\n",
       "      <th>5</th>\n",
       "      <td>120.0</td>\n",
       "      <td>8.452795</td>\n",
       "      <td>0.371560</td>\n",
       "      <td>8.453508</td>\n",
       "      <td>0.371579</td>\n",
       "      <td>-0.000019</td>\n",
       "    </tr>\n",
       "    <tr>\n",
       "      <th>6</th>\n",
       "      <td>130.0</td>\n",
       "      <td>6.175944</td>\n",
       "      <td>0.369701</td>\n",
       "      <td>6.175553</td>\n",
       "      <td>0.369689</td>\n",
       "      <td>0.000011</td>\n",
       "    </tr>\n",
       "  </tbody>\n",
       "</table>\n",
       "</div>"
      ],
      "text/plain": [
       "   Strike  Heston price  Heston ivol  MJD price  MJD ivol  diff ivol\n",
       "0    70.0     33.962811     0.426616  33.959477  0.426459   0.000157\n",
       "1    80.0     26.855224     0.408783  26.858224  0.408890  -0.000107\n",
       "2    90.0     20.699066     0.394404  20.698973  0.394402   0.000003\n",
       "3   100.0     15.591156     0.383501  15.589661  0.383462   0.000040\n",
       "4   110.0     11.538755     0.375989  11.538874  0.375993  -0.000003\n",
       "5   120.0      8.452795     0.371560   8.453508  0.371579  -0.000019\n",
       "6   130.0      6.175944     0.369701   6.175553  0.369689   0.000011"
      ]
     },
     "execution_count": 10,
     "metadata": {},
     "output_type": "execute_result"
    }
   ],
   "source": [
    "df_mkt"
   ]
  },
  {
   "cell_type": "markdown",
   "id": "dedicated-glass",
   "metadata": {},
   "source": [
    "### Check with other maturity ivol"
   ]
  },
  {
   "cell_type": "code",
   "execution_count": 11,
   "id": "stunning-gregory",
   "metadata": {},
   "outputs": [
    {
     "data": {
      "text/plain": [
       "Text(0, 0.5, 'Implied Volatility')"
      ]
     },
     "execution_count": 11,
     "metadata": {},
     "output_type": "execute_result"
    },
    {
     "data": {
      "image/png": "[encoded data removed]",
      "text/plain": [
       "<Figure size 640x480 with 1 Axes>"
      ]
     },
     "metadata": {},
     "output_type": "display_data"
    }
   ],
   "source": [
    "KKs = np.linspace(70, 130, 20)\n",
    "df_other_T = pd.DataFrame()\n",
    "df_other_T['Strike'] = KKs\n",
    "T = 0.25\n",
    "DF2 = np.exp(-r*T)\n",
    "DivF2 = np.exp(-q*T)\n",
    "forward2 = S0 * DivF2 / DF2 \n",
    "\n",
    "heston_prices = [carr_madan_heston_call_option(forward2, vol_0, kappa, nu, lam , rho, T, K, r) for K in KKs]\n",
    "heston_ivols = [blackImpliedVol(forward2, K, T, DF2, call_value) for call_value, K in zip(heston_prices, KKs)] \n",
    "\n",
    "df_other_T['Heston price'] = np.array(heston_prices)\n",
    "df_other_T['Heston ivol'] = np.array(heston_ivols)\n",
    "\n",
    "mjd_prices = [carr_madan_MJD_call_option(forward2, MJD_param.x[0], MJD_param.x[1], MJD_param.x[2], MJD_param.x[3], \\\n",
    "                                         T, K, r) for K in KKs] \n",
    "mjd_ivols = [blackImpliedVol(forward2, K, T, DF2, call_value) for call_value, K in zip(mjd_prices, KKs)]  \n",
    "\n",
    "df_other_T['MJD price'] = np.array(mjd_prices)\n",
    "df_other_T['MJD ivol'] = np.array(mjd_ivols)\n",
    "\n",
    "ax = df_other_T.plot(x='Strike', y=['Heston ivol', 'MJD ivol'], grid=True, style='-o')\n",
    "plt.title('T = ' + str(T))\n",
    "ax.set_xlabel('Strike')\n",
    "ax.set_ylabel('Implied Volatility')\n",
    "#plt.savefig(\"L8_Heston_vs_MJD_025.png\")"
   ]
  },
  {
   "cell_type": "code",
   "execution_count": null,
   "id": "finnish-bradley",
   "metadata": {},
   "outputs": [],
   "source": []
  }
 ],
 "metadata": {
  "kernelspec": {
   "display_name": ".venv",
   "language": "python",
   "name": "python3"
  },
  "language_info": {
   "codemirror_mode": {
    "name": "ipython",
    "version": 3
   },
   "file_extension": ".py",
   "mimetype": "text/x-python",
   "name": "python",
   "nbconvert_exporter": "python",
   "pygments_lexer": "ipython3",
   "version": "3.10.6"
  }
 },
 "nbformat": 4,
 "nbformat_minor": 5
}
