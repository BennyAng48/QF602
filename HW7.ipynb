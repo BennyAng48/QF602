{
 "cells": [
  {
   "cell_type": "code",
   "execution_count": 1,
   "metadata": {},
   "outputs": [],
   "source": [
    "import numpy as np\n",
    "from scipy.stats import norm\n",
    "import scipy.integrate as integrate"
   ]
  },
  {
   "cell_type": "code",
   "execution_count": 2,
   "metadata": {},
   "outputs": [],
   "source": [
    "def BlackScholesCall(S0, K, r, sigma, T):\n",
    "    d1 = (np.log(S0/K)+(r+sigma**2/2)*T) / (sigma*np.sqrt(T))\n",
    "    d2 = d1 - sigma*np.sqrt(T)\n",
    "    \n",
    "    return S0*norm.cdf(d1) - K*np.exp(-r*T)*norm.cdf(d2)"
   ]
  },
  {
   "cell_type": "code",
   "execution_count": 3,
   "metadata": {},
   "outputs": [],
   "source": [
    "def BlackScholesPut(S0, K, r, sigma, T):\n",
    "    d1 = (np.log(S0/K)+(r+sigma**2/2)*T) / (sigma*np.sqrt(T))\n",
    "    d2 = d1 - sigma*np.sqrt(T)\n",
    "    \n",
    "    return K*np.exp(-r*T)*norm.cdf(-d2) - S0*norm.cdf(-d1)"
   ]
  },
  {
   "cell_type": "code",
   "execution_count": 4,
   "metadata": {},
   "outputs": [],
   "source": [
    "def impliedvol(K):\n",
    "    return 0.51 - 0.591*K + 0.376*K**2 - 0.105*K**3 + 0.011*K**4"
   ]
  },
  {
   "cell_type": "code",
   "execution_count": 5,
   "metadata": {},
   "outputs": [],
   "source": [
    "def capped_impliedvol(K):\n",
    "    if K < 3:\n",
    "        return impliedvol(K)\n",
    "    else:\n",
    "        return impliedvol(3)"
   ]
  },
  {
   "cell_type": "code",
   "execution_count": 6,
   "metadata": {},
   "outputs": [],
   "source": [
    "# driver routine\n",
    "r = 0.00; \n",
    "q = 0.00; \n",
    "T = 4; \n",
    "S0 = 1; \n",
    "DF = np.exp(-r*T)"
   ]
  },
  {
   "cell_type": "code",
   "execution_count": 7,
   "metadata": {},
   "outputs": [],
   "source": [
    "def numerical_integration_sqrt(S0, r, q, T, SD):\n",
    "    \n",
    "    DF = np.exp(-r*T)\n",
    "    DivF = np.exp(-q*T)\n",
    "    f = S0*DivF/DF\n",
    "    \n",
    "    # Implied vol at the strike\n",
    "    Implied_vol = capped_impliedvol(f)\n",
    "    \n",
    "    # Upper limit of the call integral:SD-number of standard deviation away from mean\n",
    "    maxS = f*np.exp(Implied_vol * SD * np.sqrt(T))\n",
    "\n",
    "    # Discounted payoff\n",
    "    forward_part = np.sqrt(f) * np.exp(-r*T)\n",
    "    \n",
    "    integrated_put = lambda p: p**(-1.5)/4 * BlackScholesPut(S0, p, r, capped_impliedvol(p), T)\n",
    "    put_part, error = integrate.quad(integrated_put, 1e-4, f)\n",
    "    \n",
    "    integrated_call = lambda c: c**(-1.5)/4 * BlackScholesCall(S0, c, r, capped_impliedvol(c), T)\n",
    "    call_part, error = integrate.quad(integrated_call, f, maxS)\n",
    "\n",
    "    return forward_part - put_part - call_part"
   ]
  },
  {
   "cell_type": "code",
   "execution_count": 8,
   "metadata": {},
   "outputs": [],
   "source": [
    "def numerical_integration_cube(S0, r, q, T, SD):\n",
    "    \n",
    "    DF = np.exp(-r*T)\n",
    "    DivF = np.exp(-q*T)\n",
    "    f = S0*DivF/DF\n",
    "    \n",
    "    # Implied vol at the strike\n",
    "    Implied_vol = capped_impliedvol(f)\n",
    "    \n",
    "    # Upper limit of the call integral:SD-number of standard deviation away from mean\n",
    "    maxS = f*np.exp(Implied_vol * SD * np.sqrt(T))\n",
    "\n",
    "    # Discounted payoff\n",
    "    forward_part = f**3 * np.exp(-r*T)\n",
    "    \n",
    "    integrated_put = lambda p: 6*BlackScholesPut(S0, p, r, capped_impliedvol(p), T)*p\n",
    "    put_part, error = integrate.quad(integrated_put, 1e-4, f)\n",
    "    \n",
    "    integrated_call = lambda c: 6*BlackScholesCall(S0, c, r, capped_impliedvol(c), T)*c\n",
    "    call_part, error = integrate.quad(integrated_call, f, maxS)\n",
    "\n",
    "    return forward_part + put_part + call_part"
   ]
  },
  {
   "cell_type": "code",
   "execution_count": 9,
   "metadata": {},
   "outputs": [],
   "source": [
    "kappas = np.linspace(1,6,6)"
   ]
  },
  {
   "cell_type": "code",
   "execution_count": 10,
   "metadata": {},
   "outputs": [
    {
     "data": {
      "text/plain": [
       "array([1., 2., 3., 4., 5., 6.])"
      ]
     },
     "execution_count": 10,
     "metadata": {},
     "output_type": "execute_result"
    }
   ],
   "source": [
    "kappas"
   ]
  },
  {
   "cell_type": "code",
   "execution_count": 11,
   "metadata": {},
   "outputs": [],
   "source": [
    "numIntSqrtResults = [numerical_integration_sqrt(S0, r, q, T, SD) for SD in kappas]"
   ]
  },
  {
   "cell_type": "code",
   "execution_count": 12,
   "metadata": {},
   "outputs": [
    {
     "data": {
      "text/plain": [
       "[0.9744529379057193,\n",
       " 0.9737922020460309,\n",
       " 0.9737631318280784,\n",
       " 0.9737624998879959,\n",
       " 0.9737624966184146,\n",
       " 0.9737624965892451]"
      ]
     },
     "execution_count": 12,
     "metadata": {},
     "output_type": "execute_result"
    }
   ],
   "source": [
    "numIntSqrtResults"
   ]
  },
  {
   "cell_type": "code",
   "execution_count": 13,
   "metadata": {},
   "outputs": [],
   "source": [
    "numIntCubeResults = [numerical_integration_cube(S0, r, q, T, SD) for SD in kappas]"
   ]
  },
  {
   "cell_type": "code",
   "execution_count": 14,
   "metadata": {},
   "outputs": [
    {
     "data": {
      "text/plain": [
       "[1.4563473950073509,\n",
       " 1.5157020030493475,\n",
       " 1.5226686291504619,\n",
       " 1.5230535930212965,\n",
       " 1.5230590092868386,\n",
       " 1.5230590334482457]"
      ]
     },
     "execution_count": 14,
     "metadata": {},
     "output_type": "execute_result"
    }
   ],
   "source": [
    "numIntCubeResults"
   ]
  }
 ],
 "metadata": {
  "kernelspec": {
   "display_name": "lewagon",
   "language": "python",
   "name": "python3"
  },
  "language_info": {
   "codemirror_mode": {
    "name": "ipython",
    "version": 3
   },
   "file_extension": ".py",
   "mimetype": "text/x-python",
   "name": "python",
   "nbconvert_exporter": "python",
   "pygments_lexer": "ipython3",
   "version": "3.10.6"
  }
 },
 "nbformat": 4,
 "nbformat_minor": 2
}
