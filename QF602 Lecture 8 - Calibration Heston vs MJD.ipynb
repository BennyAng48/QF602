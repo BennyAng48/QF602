{
 "cells": [
  {
   "cell_type": "code",
   "execution_count": 1,
   "id": "precious-roads",
   "metadata": {},
   "outputs": [
    {
     "name": "stdout",
     "output_type": "stream",
     "text": [
      "####################################################################\n",
      "#  FINANCEPY BETA Version 0.370 - This build: 28 Oct 2024 at 20:26 #\n",
      "#     This software is distributed FREE AND WITHOUT ANY WARRANTY   #\n",
      "#  Report bugs as issues at https://github.com/domokane/FinancePy  #\n",
      "####################################################################\n",
      "\n"
     ]
    }
   ],
   "source": [
    "import numpy as np\n",
    "import math\n",
    "import pandas as pd\n",
    "from scipy import optimize\n",
    "import matplotlib.pyplot as plt\n",
    "from financepy.models.black import *\n",
    "from financepy.utils.global_types import *\n",
    "import Fourier as fourier\n",
    "\n",
    "import warnings\n",
    "warnings.filterwarnings('ignore')\n",
    "\n",
    "from enum import Enum\n",
    "class Calib_type(Enum):\n",
    "    PRICE = 1\n",
    "    IVOL = 2\n",
    "\n",
    "%load_ext autoreload\n",
    "%autoreload 2"
   ]
  },
  {
   "cell_type": "code",
   "execution_count": 2,
   "id": "architectural-douglas",
   "metadata": {},
   "outputs": [],
   "source": [
    "def blackImpliedVol(forward,   # Forward rate F\n",
    "                    K,         # Strike Rate K\n",
    "                    T,         # Time to Expiry (years)\n",
    "                    DF,        # df RFR to expiry date\n",
    "                    callOrPut, # FinOptionTypes.EUROPEAN_CALL or FinOptionTypes.EUROPEAN_PUT\n",
    "                    price\n",
    "                    ):    \n",
    "    min_ivol, max_ivol = 0.001, 1.0\n",
    "    f = lambda ivol: Black(ivol).value(forward, K, T, DF, callOrPut) - price    \n",
    "    return optimize.bisect(f, min_ivol, max_ivol)    \n",
    "\n",
    "def blackVega(forward, K, T, DF, ivol, callOrPut):\n",
    "    return Black(ivol).vega(forward, K, T, DF, callOrPut)"
   ]
  },
  {
   "cell_type": "markdown",
   "id": "municipal-smith",
   "metadata": {},
   "source": [
    "### Dataset 1"
   ]
  },
  {
   "cell_type": "code",
   "execution_count": 3,
   "id": "canadian-correspondence",
   "metadata": {},
   "outputs": [
    {
     "name": "stdout",
     "output_type": "stream",
     "text": [
      "        T = 0.9232876\n",
      "Strike               \n",
      "275          0.400809\n",
      "300          0.382711\n",
      "325          0.378430\n",
      "350          0.374690\n",
      "375          0.368094\n"
     ]
    }
   ],
   "source": [
    "S0 = 328.29\n",
    "#Ts = [0.1753424, 0.4246575, 0.9232876]\n",
    "#rs = [0.000553778, 0.000659467, 0.000850338]\n",
    "\n",
    "Ts = [0.9232876]\n",
    "rs = [0.000850338]\n",
    "Ks = [275, 300, 325, 350, 375]\n",
    "callOrPut = OptionTypes.EUROPEAN_CALL\n",
    "call_option_prices = {'Strike': Ks,\n",
    "                       # 'T = ' + str(Ts[0]): [56.9, 36.3, 19.6, 9.45, 4.3],\n",
    "                       # 'T = ' + str(Ts[1]): [63.2, 44.9, 30.55, 20.05, 12.5],\n",
    "                        'T = ' + str(Ts[0]): [77.55, 61.45, 48.9, 38.45, 29.5],\n",
    "                       } \n",
    "df_call_option_prices = pd.DataFrame(call_option_prices)\n",
    "df_call_option_prices = df_call_option_prices.set_index('Strike')\n",
    "\n",
    "### Find the implied vol from call option prices, ease for checking calibration error\n",
    "df_mkt_ivols = pd.DataFrame()\n",
    "df_mkt_ivols['Strike'] = Ks\n",
    "\n",
    "for r, T in zip(rs, Ts):    \n",
    "    DF = np.exp(-r*T)\n",
    "    forward = S0 * np.exp(r*T)\n",
    "    ivols = [blackImpliedVol(forward, K, T, DF, callOrPut, df_call_option_prices['T = ' + str(T)].loc[K]) for K in Ks]     \n",
    "    df_mkt_ivols['T = ' + str(T)] = np.array(ivols)    \n",
    "\n",
    "df_mkt_ivols = df_mkt_ivols.set_index('Strike')\n",
    "\n",
    "print(df_mkt_ivols)"
   ]
  },
  {
   "cell_type": "markdown",
   "id": "prostate-jones",
   "metadata": {},
   "source": [
    "### Heston calibration objective function"
   ]
  },
  {
   "cell_type": "code",
   "execution_count": 4,
   "id": "united-organ",
   "metadata": {},
   "outputs": [],
   "source": [
    "#input: \n",
    "#   var_0 = params[0]\n",
    "#   mean_rev_speed = params[1]\n",
    "#   mean_rev_level = params[2]\n",
    "#   vol_of_var = params[3]\n",
    "#   corr = params[4]    \n",
    "#   calib_type\n",
    "#output: list of residuals\n",
    "def heston_obj_func(S0, Ks, Ts, rs, mkt_call_data, params, calib_type, vega_data):  \n",
    "    vol_0 = np.sqrt(params[0])    \n",
    "    residuals = []\n",
    "    for r, T in zip(rs, Ts):    \n",
    "        DF = np.exp(-r*T)\n",
    "        forward = S0 * np.exp(r*T)\n",
    "        mdl_prices = [DF * fourier.carr_madan_heston_call_option(forward, vol_0, params[1], params[2], params[3], params[4], T, K) for K in Ks]      \n",
    "        mkt_prices = list(mkt_call_data['T = ' + str(T)])\n",
    "        res = [(mdl/mkt-1.0)**2 for mdl, mkt, vega in zip(mdl_prices, mkt_prices, vegas)]                \n",
    "        residuals.extend(res)     \n",
    "        \n",
    "    return residuals\n",
    "\n",
    "def unpack_heston_calib_params(heston_calib_res):\n",
    "    var_0 = heston_calib_res.x[0]    \n",
    "    mean_rev_speed = heston_calib_res.x[1]\n",
    "    mean_rev_level = heston_calib_res.x[2]\n",
    "    vol_of_var = heston_calib_res.x[3]\n",
    "    corr = heston_calib_res.x[4]   \n",
    "    return var_0, mean_rev_speed, mean_rev_level, vol_of_var, corr\n",
    "\n",
    "#initial values\n",
    "var_0, mean_rev_speed, mean_rev_level, vol_of_var, corr = 0.1, 1, 0.5, 0.8, -0.5   \n",
    "init_param_heston = np.array([var_0, mean_rev_speed, mean_rev_level, vol_of_var, corr])"
   ]
  },
  {
   "cell_type": "markdown",
   "id": "hourly-modeling",
   "metadata": {},
   "source": [
    "### Perform Heston Calibration "
   ]
  },
  {
   "cell_type": "code",
   "execution_count": 5,
   "id": "lesbian-ending",
   "metadata": {},
   "outputs": [
    {
     "ename": "NameError",
     "evalue": "name 'df_vegas_w' is not defined",
     "output_type": "error",
     "traceback": [
      "\u001b[0;31m---------------------------------------------------------------------------\u001b[0m",
      "\u001b[0;31mNameError\u001b[0m                                 Traceback (most recent call last)",
      "Cell \u001b[0;32mIn[5], line 3\u001b[0m\n\u001b[1;32m      1\u001b[0m \u001b[38;5;66;03m# for all maturities\u001b[39;00m\n\u001b[1;32m      2\u001b[0m obj_function \u001b[38;5;241m=\u001b[39m \u001b[38;5;28;01mlambda\u001b[39;00m p: heston_obj_func(S0, Ks, Ts, rs, df_call_option_prices, p, Calib_type\u001b[38;5;241m.\u001b[39mPRICE, df_vegas_w)\n\u001b[0;32m----> 3\u001b[0m heston_calib_res_price \u001b[38;5;241m=\u001b[39m \u001b[43moptimize\u001b[49m\u001b[38;5;241;43m.\u001b[39;49m\u001b[43mleast_squares\u001b[49m\u001b[43m(\u001b[49m\u001b[43mobj_function\u001b[49m\u001b[43m,\u001b[49m\u001b[43m \u001b[49m\u001b[43minit_param_heston\u001b[49m\u001b[43m,\u001b[49m\u001b[43m \u001b[49m\u001b[43mmethod\u001b[49m\u001b[38;5;241;43m=\u001b[39;49m\u001b[38;5;124;43m'\u001b[39;49m\u001b[38;5;124;43mlm\u001b[39;49m\u001b[38;5;124;43m'\u001b[39;49m\u001b[43m,\u001b[49m\u001b[43m \u001b[49m\u001b[43mxtol\u001b[49m\u001b[38;5;241;43m=\u001b[39;49m\u001b[38;5;241;43m1E-8\u001b[39;49m\u001b[43m)\u001b[49m\n\u001b[1;32m      4\u001b[0m \u001b[38;5;28mprint\u001b[39m(heston_calib_res_price\u001b[38;5;241m.\u001b[39mx)\n",
      "File \u001b[0;32m~/Desktop/Projects/.venv/lib/python3.10/site-packages/scipy/optimize/_lsq/least_squares.py:832\u001b[0m, in \u001b[0;36mleast_squares\u001b[0;34m(fun, x0, jac, bounds, method, ftol, xtol, gtol, x_scale, loss, f_scale, diff_step, tr_solver, tr_options, jac_sparsity, max_nfev, verbose, args, kwargs)\u001b[0m\n\u001b[1;32m    829\u001b[0m \u001b[38;5;28;01mdef\u001b[39;00m \u001b[38;5;21mfun_wrapped\u001b[39m(x):\n\u001b[1;32m    830\u001b[0m     \u001b[38;5;28;01mreturn\u001b[39;00m np\u001b[38;5;241m.\u001b[39matleast_1d(fun(x, \u001b[38;5;241m*\u001b[39margs, \u001b[38;5;241m*\u001b[39m\u001b[38;5;241m*\u001b[39mkwargs))\n\u001b[0;32m--> 832\u001b[0m f0 \u001b[38;5;241m=\u001b[39m \u001b[43mfun_wrapped\u001b[49m\u001b[43m(\u001b[49m\u001b[43mx0\u001b[49m\u001b[43m)\u001b[49m\n\u001b[1;32m    834\u001b[0m \u001b[38;5;28;01mif\u001b[39;00m f0\u001b[38;5;241m.\u001b[39mndim \u001b[38;5;241m!=\u001b[39m \u001b[38;5;241m1\u001b[39m:\n\u001b[1;32m    835\u001b[0m     \u001b[38;5;28;01mraise\u001b[39;00m \u001b[38;5;167;01mValueError\u001b[39;00m(\u001b[38;5;124m\"\u001b[39m\u001b[38;5;124m`fun` must return at most 1-d array_like. \u001b[39m\u001b[38;5;124m\"\u001b[39m\n\u001b[1;32m    836\u001b[0m                      \u001b[38;5;124mf\u001b[39m\u001b[38;5;124m\"\u001b[39m\u001b[38;5;124mf0.shape: \u001b[39m\u001b[38;5;132;01m{\u001b[39;00mf0\u001b[38;5;241m.\u001b[39mshape\u001b[38;5;132;01m}\u001b[39;00m\u001b[38;5;124m\"\u001b[39m)\n",
      "File \u001b[0;32m~/Desktop/Projects/.venv/lib/python3.10/site-packages/scipy/optimize/_lsq/least_squares.py:830\u001b[0m, in \u001b[0;36mleast_squares.<locals>.fun_wrapped\u001b[0;34m(x)\u001b[0m\n\u001b[1;32m    829\u001b[0m \u001b[38;5;28;01mdef\u001b[39;00m \u001b[38;5;21mfun_wrapped\u001b[39m(x):\n\u001b[0;32m--> 830\u001b[0m     \u001b[38;5;28;01mreturn\u001b[39;00m np\u001b[38;5;241m.\u001b[39matleast_1d(\u001b[43mfun\u001b[49m\u001b[43m(\u001b[49m\u001b[43mx\u001b[49m\u001b[43m,\u001b[49m\u001b[43m \u001b[49m\u001b[38;5;241;43m*\u001b[39;49m\u001b[43margs\u001b[49m\u001b[43m,\u001b[49m\u001b[43m \u001b[49m\u001b[38;5;241;43m*\u001b[39;49m\u001b[38;5;241;43m*\u001b[39;49m\u001b[43mkwargs\u001b[49m\u001b[43m)\u001b[49m)\n",
      "Cell \u001b[0;32mIn[5], line 2\u001b[0m, in \u001b[0;36m<lambda>\u001b[0;34m(p)\u001b[0m\n\u001b[1;32m      1\u001b[0m \u001b[38;5;66;03m# for all maturities\u001b[39;00m\n\u001b[0;32m----> 2\u001b[0m obj_function \u001b[38;5;241m=\u001b[39m \u001b[38;5;28;01mlambda\u001b[39;00m p: heston_obj_func(S0, Ks, Ts, rs, df_call_option_prices, p, Calib_type\u001b[38;5;241m.\u001b[39mPRICE, \u001b[43mdf_vegas_w\u001b[49m)\n\u001b[1;32m      3\u001b[0m heston_calib_res_price \u001b[38;5;241m=\u001b[39m optimize\u001b[38;5;241m.\u001b[39mleast_squares(obj_function, init_param_heston, method\u001b[38;5;241m=\u001b[39m\u001b[38;5;124m'\u001b[39m\u001b[38;5;124mlm\u001b[39m\u001b[38;5;124m'\u001b[39m, xtol\u001b[38;5;241m=\u001b[39m\u001b[38;5;241m1E-8\u001b[39m)\n\u001b[1;32m      4\u001b[0m \u001b[38;5;28mprint\u001b[39m(heston_calib_res_price\u001b[38;5;241m.\u001b[39mx)\n",
      "\u001b[0;31mNameError\u001b[0m: name 'df_vegas_w' is not defined"
     ]
    }
   ],
   "source": [
    "# for all maturities\n",
    "obj_function = lambda p: heston_obj_func(S0, Ks, Ts, rs, df_call_option_prices, p, Calib_type.PRICE, df_vegas_w)\n",
    "heston_calib_res_price = optimize.least_squares(obj_function, init_param_heston, method='lm', xtol=1E-8)\n",
    "print(heston_calib_res_price.x)"
   ]
  },
  {
   "cell_type": "code",
   "execution_count": null,
   "id": "treated-milton",
   "metadata": {},
   "outputs": [],
   "source": [
    "[print(round(i, 4)) for i in heston_calib_res_price.x]"
   ]
  },
  {
   "cell_type": "markdown",
   "id": "american-replication",
   "metadata": {},
   "source": [
    "### Check the calibration result"
   ]
  },
  {
   "cell_type": "code",
   "execution_count": null,
   "id": "academic-helen",
   "metadata": {},
   "outputs": [],
   "source": [
    "var_0, mean_rev_speed, mean_rev_level, vol_of_var, corr = unpack_heston_calib_params(heston_calib_res_price)\n",
    "vol_0 = np.sqrt(var_0)\n",
    "K1s = np.linspace(250, 400, 21)\n",
    "df_heston_calibrated = pd.DataFrame()\n",
    "df_heston_calibrated['Strike'] = K1s\n",
    "\n",
    "for r, T in zip(rs, Ts):    \n",
    "    DF = np.exp(-r*T)\n",
    "    forward = S0 * np.exp(r*T)\n",
    "    call_values = [DF * fourier.carr_madan_heston_call_option(forward, vol_0, mean_rev_speed, mean_rev_level, vol_of_var, corr, T, K) for K in K1s]      \n",
    "    ivols = [blackImpliedVol(forward, K, T, DF, callOrPut, call_value) for call_value, K in zip(call_values, K1s)]       \n",
    "    df_heston_calibrated['T = ' + str(T)] = np.array(ivols)\n",
    "\n",
    "df_heston_calibrated = df_heston_calibrated.set_index('Strike')\n",
    "\n",
    "#---------------------------------------------------------------------\n",
    "ax = df_heston_calibrated.plot(grid=True, figsize=(7, 5), color = ['blue','orange','green'])\n",
    "df_mkt_ivols.plot(ax=ax, grid=True, figsize=(7, 5), style='o', color = ['blue','orange','green'])\n",
    "\n",
    "plt.title(\"Heston Calibration Results\")\n",
    "plt.ylim(0.31, 0.42)\n",
    "plt.xlabel(\"Strike\")\n",
    "plt.ylabel(\"Lognormal Implied Volatility\")\n",
    "#plt.savefig(\"L4_heston_calib.png\")\n",
    "\n",
    "plt.show()"
   ]
  },
  {
   "cell_type": "markdown",
   "id": "hungarian-surname",
   "metadata": {},
   "source": [
    "### MJD calibration objective function"
   ]
  },
  {
   "cell_type": "code",
   "execution_count": 30,
   "id": "pharmaceutical-midnight",
   "metadata": {},
   "outputs": [],
   "source": [
    "#input: \n",
    "#   vol = params[0]\n",
    "#   a = params[1]\n",
    "#   b = params[2]\n",
    "#   lam = params[3]  \n",
    "#output: list of residuals\n",
    "def MJD_obj_func(S0, Ks, Ts, rs, mkt_call_data, params, calib_type, vega_data):     \n",
    "    residuals = []\n",
    "    for r, T in zip(rs, Ts):    \n",
    "        DF = np.exp(-r*T)\n",
    "        forward = S0 * np.exp(r*T)\n",
    "        mdl_prices = [DF * fourier.carr_madan_MJD_call_option(forward, params[0], params[1], params[2], params[3], T, K) for K in Ks]      \n",
    "        mkt_prices = list(mkt_call_data['T = ' + str(T)])\n",
    "        vegas = list(vega_data['T = ' + str(T)])\n",
    "        res = [vega*(mdl/mkt-1.0)**2 for mdl, mkt, vega in zip(mdl_prices, mkt_prices, vegas)]  \n",
    "        residuals.extend(res)     \n",
    "        \n",
    "    return residuals\n",
    "\n",
    "def unpack_MJD_calib_params(MJD_calib_res):\n",
    "    vol = MJD_calib_res.x[0]    \n",
    "    a = MJD_calib_res.x[1]\n",
    "    b = MJD_calib_res.x[2]\n",
    "    lam = MJD_calib_res.x[3]\n",
    "    return vol, a, b, lam\n",
    "\n",
    "#initial values\n",
    "vol = 0.2; a = -0.5; b = 1.44; lam = 0.12\n",
    "init_param_MJD = np.array([vol, a, b, lam])\n",
    "\n",
    "#[ 0.26830666 -1.344381    1.4427396   0.11208649]"
   ]
  },
  {
   "cell_type": "markdown",
   "id": "nominated-electron",
   "metadata": {},
   "source": [
    "### Perform MJD calibration"
   ]
  },
  {
   "cell_type": "code",
   "execution_count": null,
   "id": "deadly-mandate",
   "metadata": {},
   "outputs": [],
   "source": [
    "#initial values \n",
    "obj_function = lambda p: MJD_obj_func(S0, Ks, Ts, rs, df_call_option_prices, p, Calib_type.PRICE, df_vegas_w)\n",
    "MJD_calib_res_price = optimize.least_squares(obj_function, init_param_MJD, method='lm', xtol=1E-8 )\n",
    "print(MJD_calib_res_price.x)"
   ]
  },
  {
   "cell_type": "code",
   "execution_count": null,
   "id": "hidden-jacket",
   "metadata": {},
   "outputs": [],
   "source": [
    "vol, a, b, lam = unpack_MJD_calib_params(MJD_calib_res_price)\n",
    "\n",
    "K1s = np.linspace(250, 400, 21)\n",
    "df_MJD_calibrated = pd.DataFrame()\n",
    "df_MJD_calibrated['Strike'] = K1s\n",
    "\n",
    "for r, T in zip(rs, Ts):    \n",
    "    DF = np.exp(-r*T)\n",
    "    forward = S0 * np.exp(r*T)\n",
    "    call_values = [DF * fourier.carr_madan_MJD_call_option(forward, vol, a, b, lam, T, K) for K in K1s]      \n",
    "    ivols = [blackImpliedVol(forward, K, T, DF, callOrPut, call_value) for call_value, K in zip(call_values, K1s)]       \n",
    "    df_MJD_calibrated['T = ' + str(T)] = np.array(ivols)\n",
    "\n",
    "df_MJD_calibrated = df_MJD_calibrated.set_index('Strike')\n",
    "\n",
    "#---------------------------------------------------------------------\n",
    "ax = df_MJD_calibrated.plot(grid=True, figsize=(7, 5), color = ['blue','orange','green'])\n",
    "df_mkt_ivols.plot(ax=ax, grid=True, figsize=(7, 5), style='o', color = ['blue','orange','green'])\n",
    "\n",
    "plt.ylim(0.31, 0.42)\n",
    "plt.title(\"MJD Calibration Results\")\n",
    "plt.xlabel(\"Strike\")\n",
    "plt.ylabel(\"Lognormal Implied Volatility\")\n",
    "plt.savefig(\"L4_MJD_calib_vega_weighted.png\")"
   ]
  },
  {
   "cell_type": "code",
   "execution_count": null,
   "id": "spanish-amount",
   "metadata": {},
   "outputs": [],
   "source": []
  }
 ],
 "metadata": {
  "kernelspec": {
   "display_name": ".venv",
   "language": "python",
   "name": "python3"
  },
  "language_info": {
   "codemirror_mode": {
    "name": "ipython",
    "version": 3
   },
   "file_extension": ".py",
   "mimetype": "text/x-python",
   "name": "python",
   "nbconvert_exporter": "python",
   "pygments_lexer": "ipython3",
   "version": "3.10.6"
  }
 },
 "nbformat": 4,
 "nbformat_minor": 5
}
